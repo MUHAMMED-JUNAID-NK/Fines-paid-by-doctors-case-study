{
 "cells": [
  {
   "cell_type": "markdown",
   "metadata": {},
   "source": [
    "### Description: This is a case study about the financial fines paid by doctors working in research dept of a company. \n",
    " "
   ]
  },
  {
   "cell_type": "code",
   "execution_count": 1,
   "metadata": {},
   "outputs": [],
   "source": [
    "import pandas as pd\n",
    "import numpy as np\n"
   ]
  },
  {
   "cell_type": "code",
   "execution_count": 25,
   "metadata": {},
   "outputs": [],
   "source": [
    "#importing data sets\n",
    "fine=pd.read_csv(r\"C:\\Users\\MUHAMMED JUNAID N K\\Desktop\\Untitled Folder\\Fines paid  by doctors.csv\")\n",
    "\n"
   ]
  },
  {
   "cell_type": "code",
   "execution_count": 26,
   "metadata": {},
   "outputs": [],
   "source": [
    "emails=pd.read_excel(r\"C:\\Users\\MUHAMMED JUNAID N K\\Desktop\\Untitled Folder\\Emails sent.xlsx\")"
   ]
  },
  {
   "cell_type": "markdown",
   "metadata": {},
   "source": [
    "### 'FInes paid by doctors' dataset contains the online and cash fines. Some doctors paid both fines in cash as well as online.\n",
    " "
   ]
  },
  {
   "cell_type": "markdown",
   "metadata": {},
   "source": [
    "### 'Email sent' dataset contains the doctor names, the date at which email stating the fines was sent and the office at which the doctors worked. Each row in this dataset represents an email sent to a doctors."
   ]
  },
  {
   "cell_type": "code",
   "execution_count": 27,
   "metadata": {},
   "outputs": [
    {
     "data": {
      "text/html": [
       "<div>\n",
       "<style scoped>\n",
       "    .dataframe tbody tr th:only-of-type {\n",
       "        vertical-align: middle;\n",
       "    }\n",
       "\n",
       "    .dataframe tbody tr th {\n",
       "        vertical-align: top;\n",
       "    }\n",
       "\n",
       "    .dataframe thead th {\n",
       "        text-align: right;\n",
       "    }\n",
       "</style>\n",
       "<table border=\"1\" class=\"dataframe\">\n",
       "  <thead>\n",
       "    <tr style=\"text-align: right;\">\n",
       "      <th></th>\n",
       "      <th>org_indiv</th>\n",
       "      <th>first_name</th>\n",
       "      <th>last_name</th>\n",
       "      <th>city</th>\n",
       "      <th>state</th>\n",
       "      <th>category</th>\n",
       "      <th>cash_fine</th>\n",
       "      <th>online_fine</th>\n",
       "    </tr>\n",
       "  </thead>\n",
       "  <tbody>\n",
       "    <tr>\n",
       "      <th>0</th>\n",
       "      <td>3-D MEDICAL SERVICES LLC</td>\n",
       "      <td>STEVEN</td>\n",
       "      <td>DEITELZWEIG</td>\n",
       "      <td>NEW ORLEANS</td>\n",
       "      <td>LA</td>\n",
       "      <td>Professional Advising</td>\n",
       "      <td>$2,625.00</td>\n",
       "      <td>$-</td>\n",
       "    </tr>\n",
       "    <tr>\n",
       "      <th>1</th>\n",
       "      <td>AA DOCTORS, INC.</td>\n",
       "      <td>AAKASH</td>\n",
       "      <td>AHUJA</td>\n",
       "      <td>PASO ROBLES</td>\n",
       "      <td>CA</td>\n",
       "      <td>Expert-Led Forums</td>\n",
       "      <td>$1,000.00</td>\n",
       "      <td>$-</td>\n",
       "    </tr>\n",
       "    <tr>\n",
       "      <th>2</th>\n",
       "      <td>ABBO, LILIAN MARGARITA</td>\n",
       "      <td>LILIAN</td>\n",
       "      <td>ABBO</td>\n",
       "      <td>MIAMI</td>\n",
       "      <td>FL</td>\n",
       "      <td>Business Related Travel</td>\n",
       "      <td>$-</td>\n",
       "      <td>$448.00</td>\n",
       "    </tr>\n",
       "    <tr>\n",
       "      <th>3</th>\n",
       "      <td>ABBO, LILIAN MARGARITA</td>\n",
       "      <td>LILIAN</td>\n",
       "      <td>ABBO</td>\n",
       "      <td>MIAMI</td>\n",
       "      <td>FL</td>\n",
       "      <td>Meals</td>\n",
       "      <td>$-</td>\n",
       "      <td>$119.00</td>\n",
       "    </tr>\n",
       "    <tr>\n",
       "      <th>4</th>\n",
       "      <td>ABBO, LILIAN MARGARITA</td>\n",
       "      <td>LILIAN</td>\n",
       "      <td>ABBO</td>\n",
       "      <td>MIAMI</td>\n",
       "      <td>FL</td>\n",
       "      <td>Professional Advising</td>\n",
       "      <td>$1,800.00</td>\n",
       "      <td>$-</td>\n",
       "    </tr>\n",
       "    <tr>\n",
       "      <th>5</th>\n",
       "      <td>ABDULLAH RAFFEE MD PC</td>\n",
       "      <td>ABDULLAH</td>\n",
       "      <td>RAFFEE</td>\n",
       "      <td>FLINT</td>\n",
       "      <td>MI</td>\n",
       "      <td>Expert-Led Forums</td>\n",
       "      <td>$750.00</td>\n",
       "      <td>$-</td>\n",
       "    </tr>\n",
       "    <tr>\n",
       "      <th>6</th>\n",
       "      <td>ABEBE, SHEILA Y</td>\n",
       "      <td>SHEILA</td>\n",
       "      <td>ABEBE</td>\n",
       "      <td>INDIANAPOLIS</td>\n",
       "      <td>IN</td>\n",
       "      <td>Educational Items</td>\n",
       "      <td>$-</td>\n",
       "      <td>$47.00</td>\n",
       "    </tr>\n",
       "    <tr>\n",
       "      <th>7</th>\n",
       "      <td>ABEBE, SHEILA Y</td>\n",
       "      <td>SHEILA</td>\n",
       "      <td>ABEBE</td>\n",
       "      <td>INDIANAPOLIS</td>\n",
       "      <td>IN</td>\n",
       "      <td>Expert-Led Forums</td>\n",
       "      <td>$825.00</td>\n",
       "      <td>$-</td>\n",
       "    </tr>\n",
       "    <tr>\n",
       "      <th>8</th>\n",
       "      <td>ABILENE FAMILY FOOT CENTER</td>\n",
       "      <td>GALEN</td>\n",
       "      <td>ALBRITTON</td>\n",
       "      <td>ABILENE</td>\n",
       "      <td>TX</td>\n",
       "      <td>Professional Advising</td>\n",
       "      <td>$3,000.00</td>\n",
       "      <td>$-</td>\n",
       "    </tr>\n",
       "    <tr>\n",
       "      <th>9</th>\n",
       "      <td>ABOLNIK, IGOR Z</td>\n",
       "      <td>IGOR</td>\n",
       "      <td>ABOLNIK</td>\n",
       "      <td>PROVO</td>\n",
       "      <td>UT</td>\n",
       "      <td>Business Related Travel</td>\n",
       "      <td>$-</td>\n",
       "      <td>$396.00</td>\n",
       "    </tr>\n",
       "  </tbody>\n",
       "</table>\n",
       "</div>"
      ],
      "text/plain": [
       "                    org_indiv first_name    last_name          city state  \\\n",
       "0    3-D MEDICAL SERVICES LLC     STEVEN  DEITELZWEIG   NEW ORLEANS    LA   \n",
       "1            AA DOCTORS, INC.     AAKASH        AHUJA   PASO ROBLES    CA   \n",
       "2      ABBO, LILIAN MARGARITA     LILIAN         ABBO         MIAMI    FL   \n",
       "3      ABBO, LILIAN MARGARITA     LILIAN         ABBO         MIAMI    FL   \n",
       "4      ABBO, LILIAN MARGARITA     LILIAN         ABBO         MIAMI    FL   \n",
       "5       ABDULLAH RAFFEE MD PC   ABDULLAH       RAFFEE         FLINT    MI   \n",
       "6             ABEBE, SHEILA Y     SHEILA        ABEBE  INDIANAPOLIS    IN   \n",
       "7             ABEBE, SHEILA Y     SHEILA        ABEBE  INDIANAPOLIS    IN   \n",
       "8  ABILENE FAMILY FOOT CENTER      GALEN    ALBRITTON       ABILENE    TX   \n",
       "9             ABOLNIK, IGOR Z       IGOR      ABOLNIK         PROVO    UT   \n",
       "\n",
       "                  category  cash_fine   online_fine   \n",
       "0    Professional Advising  $2,625.00          $-     \n",
       "1        Expert-Led Forums  $1,000.00          $-     \n",
       "2  Business Related Travel       $-         $448.00   \n",
       "3                    Meals       $-         $119.00   \n",
       "4    Professional Advising  $1,800.00          $-     \n",
       "5        Expert-Led Forums    $750.00          $-     \n",
       "6        Educational Items       $-          $47.00   \n",
       "7        Expert-Led Forums    $825.00          $-     \n",
       "8    Professional Advising  $3,000.00          $-     \n",
       "9  Business Related Travel       $-         $396.00   "
      ]
     },
     "execution_count": 27,
     "metadata": {},
     "output_type": "execute_result"
    }
   ],
   "source": [
    "fine.head(10)"
   ]
  },
  {
   "cell_type": "markdown",
   "metadata": {},
   "source": [
    "### Q.1  Standardise the mail_sent_date column values to YYYY-MM-DD standard date format\n"
   ]
  },
  {
   "cell_type": "code",
   "execution_count": 33,
   "metadata": {},
   "outputs": [],
   "source": [
    "emails['mail_sent_date']=pd.to_datetime(emails['mail_sent_date']).dt.strftime('%Y-%m-%d')"
   ]
  },
  {
   "cell_type": "code",
   "execution_count": 71,
   "metadata": {},
   "outputs": [
    {
     "data": {
      "text/html": [
       "<div>\n",
       "<style scoped>\n",
       "    .dataframe tbody tr th:only-of-type {\n",
       "        vertical-align: middle;\n",
       "    }\n",
       "\n",
       "    .dataframe tbody tr th {\n",
       "        vertical-align: top;\n",
       "    }\n",
       "\n",
       "    .dataframe thead th {\n",
       "        text-align: right;\n",
       "    }\n",
       "</style>\n",
       "<table border=\"1\" class=\"dataframe\">\n",
       "  <thead>\n",
       "    <tr style=\"text-align: right;\">\n",
       "      <th></th>\n",
       "      <th>name_last</th>\n",
       "      <th>name_first</th>\n",
       "      <th>name_middle</th>\n",
       "      <th>mail_sent_date</th>\n",
       "      <th>office</th>\n",
       "    </tr>\n",
       "  </thead>\n",
       "  <tbody>\n",
       "    <tr>\n",
       "      <th>0</th>\n",
       "      <td>ADELGLASS</td>\n",
       "      <td>JEFFREY</td>\n",
       "      <td>M.</td>\n",
       "      <td>2009-05-22 00:00:00</td>\n",
       "      <td>Center for Drug Evaluation and Research</td>\n",
       "    </tr>\n",
       "    <tr>\n",
       "      <th>1</th>\n",
       "      <td>ADKINSON</td>\n",
       "      <td>N.</td>\n",
       "      <td>FRANKLIN</td>\n",
       "      <td>2010-04-17</td>\n",
       "      <td>Center for Biologics Evaluation and Research</td>\n",
       "    </tr>\n",
       "    <tr>\n",
       "      <th>2</th>\n",
       "      <td>ALLEN</td>\n",
       "      <td>MARK</td>\n",
       "      <td>S.</td>\n",
       "      <td>2012-01-26</td>\n",
       "      <td>Center for Devices and Radiological Health</td>\n",
       "    </tr>\n",
       "    <tr>\n",
       "      <th>3</th>\n",
       "      <td>AMSTERDAM</td>\n",
       "      <td>DANIEL</td>\n",
       "      <td>NaN</td>\n",
       "      <td>2014.11.15</td>\n",
       "      <td>Center for Biologics Evaluation and Research</td>\n",
       "    </tr>\n",
       "    <tr>\n",
       "      <th>4</th>\n",
       "      <td>AMSTUTZ</td>\n",
       "      <td>HARLAN</td>\n",
       "      <td>C.</td>\n",
       "      <td>2014.07.17</td>\n",
       "      <td>Center for Devices and Radiological Health</td>\n",
       "    </tr>\n",
       "    <tr>\n",
       "      <th>5</th>\n",
       "      <td>ANDERSON</td>\n",
       "      <td>C.</td>\n",
       "      <td>JOSEPH</td>\n",
       "      <td>2010-02-22</td>\n",
       "      <td>Center for Devices and Radiological Health</td>\n",
       "    </tr>\n",
       "    <tr>\n",
       "      <th>6</th>\n",
       "      <td>ANDREWS</td>\n",
       "      <td>DAVID</td>\n",
       "      <td>W.</td>\n",
       "      <td>2010-07-17</td>\n",
       "      <td>Center for Biologics Evaluation and Research</td>\n",
       "    </tr>\n",
       "    <tr>\n",
       "      <th>7</th>\n",
       "      <td>AQEL</td>\n",
       "      <td>RAED</td>\n",
       "      <td>NaN</td>\n",
       "      <td>2012-10-27</td>\n",
       "      <td>Center for Devices and Radiological Health</td>\n",
       "    </tr>\n",
       "    <tr>\n",
       "      <th>8</th>\n",
       "      <td>ARROWSMITH</td>\n",
       "      <td>PETER</td>\n",
       "      <td>N.</td>\n",
       "      <td>2014.01.18</td>\n",
       "      <td>Center for Devices and Radiological Health</td>\n",
       "    </tr>\n",
       "    <tr>\n",
       "      <th>9</th>\n",
       "      <td>BARR</td>\n",
       "      <td>JOHN</td>\n",
       "      <td>D.</td>\n",
       "      <td>2010-01-11</td>\n",
       "      <td>Center for Devices and Radiological Health</td>\n",
       "    </tr>\n",
       "  </tbody>\n",
       "</table>\n",
       "</div>"
      ],
      "text/plain": [
       "    name_last name_first name_middle       mail_sent_date  \\\n",
       "0   ADELGLASS    JEFFREY          M.  2009-05-22 00:00:00   \n",
       "1    ADKINSON         N.    FRANKLIN           2010-04-17   \n",
       "2       ALLEN       MARK          S.           2012-01-26   \n",
       "3   AMSTERDAM     DANIEL         NaN           2014.11.15   \n",
       "4     AMSTUTZ     HARLAN          C.           2014.07.17   \n",
       "5    ANDERSON         C.      JOSEPH           2010-02-22   \n",
       "6     ANDREWS      DAVID          W.           2010-07-17   \n",
       "7        AQEL       RAED         NaN           2012-10-27   \n",
       "8  ARROWSMITH      PETER          N.           2014.01.18   \n",
       "9        BARR       JOHN          D.           2010-01-11   \n",
       "\n",
       "                                         office  \n",
       "0       Center for Drug Evaluation and Research  \n",
       "1  Center for Biologics Evaluation and Research  \n",
       "2    Center for Devices and Radiological Health  \n",
       "3  Center for Biologics Evaluation and Research  \n",
       "4    Center for Devices and Radiological Health  \n",
       "5    Center for Devices and Radiological Health  \n",
       "6  Center for Biologics Evaluation and Research  \n",
       "7    Center for Devices and Radiological Health  \n",
       "8    Center for Devices and Radiological Health  \n",
       "9    Center for Devices and Radiological Health  "
      ]
     },
     "execution_count": 71,
     "metadata": {},
     "output_type": "execute_result"
    }
   ],
   "source": [
    "emails.head(10)"
   ]
  },
  {
   "cell_type": "markdown",
   "metadata": {},
   "source": [
    "### Q.2 In which Year maximum number of emails were sent to doctors? \n"
   ]
  },
  {
   "cell_type": "code",
   "execution_count": 228,
   "metadata": {},
   "outputs": [],
   "source": [
    "emails['mail_sent_date'] = pd.to_datetime(emails['mail_sent_date'])"
   ]
  },
  {
   "cell_type": "code",
   "execution_count": 229,
   "metadata": {},
   "outputs": [],
   "source": [
    "emails['mail_sent_date']=pd.to_datetime(emails['mail_sent_date']).dt.strftime('%Y')"
   ]
  },
  {
   "cell_type": "code",
   "execution_count": 230,
   "metadata": {},
   "outputs": [],
   "source": [
    "count_years=emails.groupby('mail_sent_date').apply(lambda X:X['mail_sent_date'].count()).to_frame().reset_index()"
   ]
  },
  {
   "cell_type": "code",
   "execution_count": 231,
   "metadata": {},
   "outputs": [
    {
     "data": {
      "text/html": [
       "<div>\n",
       "<style scoped>\n",
       "    .dataframe tbody tr th:only-of-type {\n",
       "        vertical-align: middle;\n",
       "    }\n",
       "\n",
       "    .dataframe tbody tr th {\n",
       "        vertical-align: top;\n",
       "    }\n",
       "\n",
       "    .dataframe thead th {\n",
       "        text-align: right;\n",
       "    }\n",
       "</style>\n",
       "<table border=\"1\" class=\"dataframe\">\n",
       "  <thead>\n",
       "    <tr style=\"text-align: right;\">\n",
       "      <th></th>\n",
       "      <th>mail_sent_date</th>\n",
       "      <th>0</th>\n",
       "    </tr>\n",
       "  </thead>\n",
       "  <tbody>\n",
       "    <tr>\n",
       "      <th>0</th>\n",
       "      <td>2006</td>\n",
       "      <td>1</td>\n",
       "    </tr>\n",
       "    <tr>\n",
       "      <th>1</th>\n",
       "      <td>2007</td>\n",
       "      <td>15</td>\n",
       "    </tr>\n",
       "    <tr>\n",
       "      <th>2</th>\n",
       "      <td>2008</td>\n",
       "      <td>8</td>\n",
       "    </tr>\n",
       "    <tr>\n",
       "      <th>3</th>\n",
       "      <td>2009</td>\n",
       "      <td>14</td>\n",
       "    </tr>\n",
       "    <tr>\n",
       "      <th>4</th>\n",
       "      <td>2010</td>\n",
       "      <td>25</td>\n",
       "    </tr>\n",
       "    <tr>\n",
       "      <th>5</th>\n",
       "      <td>2011</td>\n",
       "      <td>20</td>\n",
       "    </tr>\n",
       "    <tr>\n",
       "      <th>6</th>\n",
       "      <td>2012</td>\n",
       "      <td>16</td>\n",
       "    </tr>\n",
       "    <tr>\n",
       "      <th>7</th>\n",
       "      <td>2013</td>\n",
       "      <td>21</td>\n",
       "    </tr>\n",
       "    <tr>\n",
       "      <th>8</th>\n",
       "      <td>2014</td>\n",
       "      <td>32</td>\n",
       "    </tr>\n",
       "    <tr>\n",
       "      <th>9</th>\n",
       "      <td>2015</td>\n",
       "      <td>31</td>\n",
       "    </tr>\n",
       "    <tr>\n",
       "      <th>10</th>\n",
       "      <td>2016</td>\n",
       "      <td>25</td>\n",
       "    </tr>\n",
       "    <tr>\n",
       "      <th>11</th>\n",
       "      <td>2017</td>\n",
       "      <td>11</td>\n",
       "    </tr>\n",
       "    <tr>\n",
       "      <th>12</th>\n",
       "      <td>2018</td>\n",
       "      <td>23</td>\n",
       "    </tr>\n",
       "    <tr>\n",
       "      <th>13</th>\n",
       "      <td>2019</td>\n",
       "      <td>25</td>\n",
       "    </tr>\n",
       "    <tr>\n",
       "      <th>14</th>\n",
       "      <td>2020</td>\n",
       "      <td>5</td>\n",
       "    </tr>\n",
       "  </tbody>\n",
       "</table>\n",
       "</div>"
      ],
      "text/plain": [
       "   mail_sent_date   0\n",
       "0            2006   1\n",
       "1            2007  15\n",
       "2            2008   8\n",
       "3            2009  14\n",
       "4            2010  25\n",
       "5            2011  20\n",
       "6            2012  16\n",
       "7            2013  21\n",
       "8            2014  32\n",
       "9            2015  31\n",
       "10           2016  25\n",
       "11           2017  11\n",
       "12           2018  23\n",
       "13           2019  25\n",
       "14           2020   5"
      ]
     },
     "execution_count": 231,
     "metadata": {},
     "output_type": "execute_result"
    }
   ],
   "source": [
    "count_years.head(15)"
   ]
  },
  {
   "cell_type": "markdown",
   "metadata": {},
   "source": [
    "###  Here we found that  maximum number of mails was sent  in 2014 that is 32 times"
   ]
  },
  {
   "cell_type": "markdown",
   "metadata": {},
   "source": [
    "### Q.3 Write a query to get total fine paid per Office"
   ]
  },
  {
   "cell_type": "markdown",
   "metadata": {},
   "source": [
    "### We have 2 data frames and the fines df contains fine details and the emails df contains office datasets"
   ]
  },
  {
   "cell_type": "code",
   "execution_count": 28,
   "metadata": {},
   "outputs": [],
   "source": [
    "fine= fine.rename(columns={' cash_fine ': 'cash'})\n"
   ]
  },
  {
   "cell_type": "code",
   "execution_count": 29,
   "metadata": {},
   "outputs": [],
   "source": [
    "fine= fine.rename(columns={' online_fine ': 'online'})"
   ]
  },
  {
   "cell_type": "markdown",
   "metadata": {},
   "source": [
    "###  Here we renamed the 'cash_fine' and 'online_fine' columns to 'cash'  and 'online' due to error 'Data frame' object has no attribute"
   ]
  },
  {
   "cell_type": "markdown",
   "metadata": {},
   "source": [
    "### We have to add a columns in fines df as total fine"
   ]
  },
  {
   "cell_type": "code",
   "execution_count": 23,
   "metadata": {},
   "outputs": [
    {
     "data": {
      "text/plain": [
       "org_indiv       0\n",
       "first_name    203\n",
       "last_name       0\n",
       "city            0\n",
       "state           0\n",
       "category        1\n",
       "cash            0\n",
       "online          0\n",
       "Total_fine      0\n",
       "dtype: int64"
      ]
     },
     "execution_count": 23,
     "metadata": {},
     "output_type": "execute_result"
    }
   ],
   "source": [
    "# we need to check for null values\n",
    "fine.isnull().sum()"
   ]
  },
  {
   "cell_type": "code",
   "execution_count": 22,
   "metadata": {},
   "outputs": [
    {
     "data": {
      "text/plain": [
       "name_last          0\n",
       "name_first         0\n",
       "name_middle       91\n",
       "mail_sent_date     0\n",
       "office             0\n",
       "dtype: int64"
      ]
     },
     "execution_count": 22,
     "metadata": {},
     "output_type": "execute_result"
    }
   ],
   "source": [
    "emails.isnull().sum()"
   ]
  },
  {
   "cell_type": "markdown",
   "metadata": {},
   "source": [
    "###  No relevant Null values"
   ]
  },
  {
   "cell_type": "code",
   "execution_count": 61,
   "metadata": {},
   "outputs": [],
   "source": [
    "fine['online_replace']=fine['online'].str.replace('$','').str.replace(',','').str.replace('-', '0').str.replace('NA','0')\n"
   ]
  },
  {
   "cell_type": "code",
   "execution_count": 62,
   "metadata": {},
   "outputs": [],
   "source": [
    "fine['online_replace']=pd.to_numeric(fine['online_replace'])"
   ]
  },
  {
   "cell_type": "code",
   "execution_count": 58,
   "metadata": {},
   "outputs": [
    {
     "data": {
      "text/plain": [
       "0          0.0\n",
       "1          0.0\n",
       "2        448.0\n",
       "3        119.0\n",
       "4          0.0\n",
       "         ...  \n",
       "10082      0.0\n",
       "10083     65.0\n",
       "10084     61.0\n",
       "10085      0.0\n",
       "10086     28.0\n",
       "Name: online_replace, Length: 10087, dtype: float64"
      ]
     },
     "execution_count": 58,
     "metadata": {},
     "output_type": "execute_result"
    }
   ],
   "source": [
    "fine.online_replace"
   ]
  },
  {
   "cell_type": "markdown",
   "metadata": {},
   "source": [
    "###  Now changed the data type to float "
   ]
  },
  {
   "cell_type": "code",
   "execution_count": 63,
   "metadata": {},
   "outputs": [],
   "source": [
    "# and also the cash column can be changed\n",
    "fine['cash_replace']=fine['cash'].str.replace('$','').str.replace(',','').str.replace('-', '0').str.replace('NA','0')\n"
   ]
  },
  {
   "cell_type": "code",
   "execution_count": 65,
   "metadata": {},
   "outputs": [],
   "source": [
    "fine['cash_replace']=pd.to_numeric(fine['cash_replace'])"
   ]
  },
  {
   "cell_type": "code",
   "execution_count": 66,
   "metadata": {},
   "outputs": [
    {
     "data": {
      "text/plain": [
       "0        2625.0\n",
       "1        1000.0\n",
       "2           0.0\n",
       "3           0.0\n",
       "4        1800.0\n",
       "          ...  \n",
       "10082    1750.0\n",
       "10083       0.0\n",
       "10084       0.0\n",
       "10085    2000.0\n",
       "10086       0.0\n",
       "Name: cash_replace, Length: 10087, dtype: float64"
      ]
     },
     "execution_count": 66,
     "metadata": {},
     "output_type": "execute_result"
    }
   ],
   "source": [
    "fine.cash_replace"
   ]
  },
  {
   "cell_type": "code",
   "execution_count": 68,
   "metadata": {},
   "outputs": [],
   "source": [
    "fine['Total']=fine['cash_replace']+fine['online_replace']"
   ]
  },
  {
   "cell_type": "code",
   "execution_count": 70,
   "metadata": {},
   "outputs": [
    {
     "data": {
      "text/html": [
       "<div>\n",
       "<style scoped>\n",
       "    .dataframe tbody tr th:only-of-type {\n",
       "        vertical-align: middle;\n",
       "    }\n",
       "\n",
       "    .dataframe tbody tr th {\n",
       "        vertical-align: top;\n",
       "    }\n",
       "\n",
       "    .dataframe thead th {\n",
       "        text-align: right;\n",
       "    }\n",
       "</style>\n",
       "<table border=\"1\" class=\"dataframe\">\n",
       "  <thead>\n",
       "    <tr style=\"text-align: right;\">\n",
       "      <th></th>\n",
       "      <th>org_indiv</th>\n",
       "      <th>first_name</th>\n",
       "      <th>last_name</th>\n",
       "      <th>city</th>\n",
       "      <th>state</th>\n",
       "      <th>category</th>\n",
       "      <th>cash</th>\n",
       "      <th>online</th>\n",
       "      <th>cash_replace</th>\n",
       "      <th>online_replace</th>\n",
       "      <th>Total</th>\n",
       "    </tr>\n",
       "  </thead>\n",
       "  <tbody>\n",
       "    <tr>\n",
       "      <th>0</th>\n",
       "      <td>3-D MEDICAL SERVICES LLC</td>\n",
       "      <td>STEVEN</td>\n",
       "      <td>DEITELZWEIG</td>\n",
       "      <td>NEW ORLEANS</td>\n",
       "      <td>LA</td>\n",
       "      <td>Professional Advising</td>\n",
       "      <td>$2,625.00</td>\n",
       "      <td>$-</td>\n",
       "      <td>2625.0</td>\n",
       "      <td>0.0</td>\n",
       "      <td>2625.0</td>\n",
       "    </tr>\n",
       "    <tr>\n",
       "      <th>1</th>\n",
       "      <td>AA DOCTORS, INC.</td>\n",
       "      <td>AAKASH</td>\n",
       "      <td>AHUJA</td>\n",
       "      <td>PASO ROBLES</td>\n",
       "      <td>CA</td>\n",
       "      <td>Expert-Led Forums</td>\n",
       "      <td>$1,000.00</td>\n",
       "      <td>$-</td>\n",
       "      <td>1000.0</td>\n",
       "      <td>0.0</td>\n",
       "      <td>1000.0</td>\n",
       "    </tr>\n",
       "    <tr>\n",
       "      <th>2</th>\n",
       "      <td>ABBO, LILIAN MARGARITA</td>\n",
       "      <td>LILIAN</td>\n",
       "      <td>ABBO</td>\n",
       "      <td>MIAMI</td>\n",
       "      <td>FL</td>\n",
       "      <td>Business Related Travel</td>\n",
       "      <td>$-</td>\n",
       "      <td>$448.00</td>\n",
       "      <td>0.0</td>\n",
       "      <td>448.0</td>\n",
       "      <td>448.0</td>\n",
       "    </tr>\n",
       "    <tr>\n",
       "      <th>3</th>\n",
       "      <td>ABBO, LILIAN MARGARITA</td>\n",
       "      <td>LILIAN</td>\n",
       "      <td>ABBO</td>\n",
       "      <td>MIAMI</td>\n",
       "      <td>FL</td>\n",
       "      <td>Meals</td>\n",
       "      <td>$-</td>\n",
       "      <td>$119.00</td>\n",
       "      <td>0.0</td>\n",
       "      <td>119.0</td>\n",
       "      <td>119.0</td>\n",
       "    </tr>\n",
       "    <tr>\n",
       "      <th>4</th>\n",
       "      <td>ABBO, LILIAN MARGARITA</td>\n",
       "      <td>LILIAN</td>\n",
       "      <td>ABBO</td>\n",
       "      <td>MIAMI</td>\n",
       "      <td>FL</td>\n",
       "      <td>Professional Advising</td>\n",
       "      <td>$1,800.00</td>\n",
       "      <td>$-</td>\n",
       "      <td>1800.0</td>\n",
       "      <td>0.0</td>\n",
       "      <td>1800.0</td>\n",
       "    </tr>\n",
       "  </tbody>\n",
       "</table>\n",
       "</div>"
      ],
      "text/plain": [
       "                  org_indiv first_name    last_name         city state  \\\n",
       "0  3-D MEDICAL SERVICES LLC     STEVEN  DEITELZWEIG  NEW ORLEANS    LA   \n",
       "1          AA DOCTORS, INC.     AAKASH        AHUJA  PASO ROBLES    CA   \n",
       "2    ABBO, LILIAN MARGARITA     LILIAN         ABBO        MIAMI    FL   \n",
       "3    ABBO, LILIAN MARGARITA     LILIAN         ABBO        MIAMI    FL   \n",
       "4    ABBO, LILIAN MARGARITA     LILIAN         ABBO        MIAMI    FL   \n",
       "\n",
       "                  category        cash    online  cash_replace  \\\n",
       "0    Professional Advising  $2,625.00      $-           2625.0   \n",
       "1        Expert-Led Forums  $1,000.00      $-           1000.0   \n",
       "2  Business Related Travel       $-     $448.00            0.0   \n",
       "3                    Meals       $-     $119.00            0.0   \n",
       "4    Professional Advising  $1,800.00      $-           1800.0   \n",
       "\n",
       "   online_replace   Total  \n",
       "0             0.0  2625.0  \n",
       "1             0.0  1000.0  \n",
       "2           448.0   448.0  \n",
       "3           119.0   119.0  \n",
       "4             0.0  1800.0  "
      ]
     },
     "execution_count": 70,
     "metadata": {},
     "output_type": "execute_result"
    }
   ],
   "source": [
    "fine.head()"
   ]
  },
  {
   "cell_type": "markdown",
   "metadata": {},
   "source": [
    "### Well we have added Total column and our question is  Write a query to get total fine paid per Office¶"
   ]
  },
  {
   "cell_type": "markdown",
   "metadata": {},
   "source": [
    "### We need to merge the 2 datasets to find out total fine paid per office"
   ]
  },
  {
   "cell_type": "markdown",
   "metadata": {},
   "source": [
    "### Here 2 data frames have one common key  that is last name and first name has null values "
   ]
  },
  {
   "cell_type": "code",
   "execution_count": 75,
   "metadata": {},
   "outputs": [],
   "source": [
    "fine= fine.rename(columns={'last_name': 'LastName'})"
   ]
  },
  {
   "cell_type": "code",
   "execution_count": 77,
   "metadata": {},
   "outputs": [],
   "source": [
    "emails= emails.rename(columns={'name_last': 'LastName'})"
   ]
  },
  {
   "cell_type": "code",
   "execution_count": 113,
   "metadata": {},
   "outputs": [],
   "source": [
    "fine_email=pd.merge(fine,emails,on='LastName',how=\"inner\")"
   ]
  },
  {
   "cell_type": "code",
   "execution_count": 100,
   "metadata": {},
   "outputs": [
    {
     "data": {
      "text/plain": [
       "(810, 15)"
      ]
     },
     "execution_count": 100,
     "metadata": {},
     "output_type": "execute_result"
    }
   ],
   "source": [
    "fine_email.shape"
   ]
  },
  {
   "cell_type": "code",
   "execution_count": 115,
   "metadata": {},
   "outputs": [
    {
     "data": {
      "text/html": [
       "<div>\n",
       "<style scoped>\n",
       "    .dataframe tbody tr th:only-of-type {\n",
       "        vertical-align: middle;\n",
       "    }\n",
       "\n",
       "    .dataframe tbody tr th {\n",
       "        vertical-align: top;\n",
       "    }\n",
       "\n",
       "    .dataframe thead th {\n",
       "        text-align: right;\n",
       "    }\n",
       "</style>\n",
       "<table border=\"1\" class=\"dataframe\">\n",
       "  <thead>\n",
       "    <tr style=\"text-align: right;\">\n",
       "      <th></th>\n",
       "      <th>org_indiv</th>\n",
       "      <th>first_name</th>\n",
       "      <th>LastName</th>\n",
       "      <th>city</th>\n",
       "      <th>state</th>\n",
       "      <th>category</th>\n",
       "      <th>cash</th>\n",
       "      <th>online</th>\n",
       "      <th>cash_replace</th>\n",
       "      <th>online_replace</th>\n",
       "      <th>Total</th>\n",
       "      <th>FirstName</th>\n",
       "      <th>name_middle</th>\n",
       "      <th>mail_sent_date</th>\n",
       "      <th>office</th>\n",
       "    </tr>\n",
       "  </thead>\n",
       "  <tbody>\n",
       "    <tr>\n",
       "      <th>0</th>\n",
       "      <td>AILEEN FELDMAN MD</td>\n",
       "      <td>AILEEN</td>\n",
       "      <td>FELDMAN</td>\n",
       "      <td>SOUTHINGTON</td>\n",
       "      <td>CT</td>\n",
       "      <td>Business Related Travel</td>\n",
       "      <td>$-</td>\n",
       "      <td>$66.00</td>\n",
       "      <td>0.0</td>\n",
       "      <td>66.0</td>\n",
       "      <td>66.0</td>\n",
       "      <td>MARK</td>\n",
       "      <td>H.</td>\n",
       "      <td>2011-12-19</td>\n",
       "      <td>Center for Devices and Radiological Health</td>\n",
       "    </tr>\n",
       "    <tr>\n",
       "      <th>1</th>\n",
       "      <td>AILEEN FELDMAN MD</td>\n",
       "      <td>AILEEN</td>\n",
       "      <td>FELDMAN</td>\n",
       "      <td>SOUTHINGTON</td>\n",
       "      <td>CT</td>\n",
       "      <td>Expert-Led Forums</td>\n",
       "      <td>$2,500.00</td>\n",
       "      <td>$-</td>\n",
       "      <td>2500.0</td>\n",
       "      <td>0.0</td>\n",
       "      <td>2500.0</td>\n",
       "      <td>MARK</td>\n",
       "      <td>H.</td>\n",
       "      <td>2011-12-19</td>\n",
       "      <td>Center for Devices and Radiological Health</td>\n",
       "    </tr>\n",
       "    <tr>\n",
       "      <th>2</th>\n",
       "      <td>FELDMAN, ARTHUR EDWARD</td>\n",
       "      <td>ARTHUR</td>\n",
       "      <td>FELDMAN</td>\n",
       "      <td>SOMERVILLE</td>\n",
       "      <td>NJ</td>\n",
       "      <td>Expert-Led Forums</td>\n",
       "      <td>$1,250.00</td>\n",
       "      <td>$-</td>\n",
       "      <td>1250.0</td>\n",
       "      <td>0.0</td>\n",
       "      <td>1250.0</td>\n",
       "      <td>MARK</td>\n",
       "      <td>H.</td>\n",
       "      <td>2011-12-19</td>\n",
       "      <td>Center for Devices and Radiological Health</td>\n",
       "    </tr>\n",
       "    <tr>\n",
       "      <th>3</th>\n",
       "      <td>FELDMAN, ARTHUR EDWARD</td>\n",
       "      <td>ARTHUR</td>\n",
       "      <td>FELDMAN</td>\n",
       "      <td>SOMERVILLE</td>\n",
       "      <td>NJ</td>\n",
       "      <td>Meals</td>\n",
       "      <td>$-</td>\n",
       "      <td>$92.00</td>\n",
       "      <td>0.0</td>\n",
       "      <td>92.0</td>\n",
       "      <td>92.0</td>\n",
       "      <td>MARK</td>\n",
       "      <td>H.</td>\n",
       "      <td>2011-12-19</td>\n",
       "      <td>Center for Devices and Radiological Health</td>\n",
       "    </tr>\n",
       "    <tr>\n",
       "      <th>4</th>\n",
       "      <td>FELDMAN, DARREN RICHARD</td>\n",
       "      <td>DARREN</td>\n",
       "      <td>FELDMAN</td>\n",
       "      <td>NEW YORK</td>\n",
       "      <td>NY</td>\n",
       "      <td>Business Related Travel</td>\n",
       "      <td>$-</td>\n",
       "      <td>$260.00</td>\n",
       "      <td>0.0</td>\n",
       "      <td>260.0</td>\n",
       "      <td>260.0</td>\n",
       "      <td>MARK</td>\n",
       "      <td>H.</td>\n",
       "      <td>2011-12-19</td>\n",
       "      <td>Center for Devices and Radiological Health</td>\n",
       "    </tr>\n",
       "  </tbody>\n",
       "</table>\n",
       "</div>"
      ],
      "text/plain": [
       "                 org_indiv first_name LastName         city state  \\\n",
       "0        AILEEN FELDMAN MD     AILEEN  FELDMAN  SOUTHINGTON    CT   \n",
       "1        AILEEN FELDMAN MD     AILEEN  FELDMAN  SOUTHINGTON    CT   \n",
       "2   FELDMAN, ARTHUR EDWARD     ARTHUR  FELDMAN   SOMERVILLE    NJ   \n",
       "3   FELDMAN, ARTHUR EDWARD     ARTHUR  FELDMAN   SOMERVILLE    NJ   \n",
       "4  FELDMAN, DARREN RICHARD     DARREN  FELDMAN     NEW YORK    NY   \n",
       "\n",
       "                  category        cash    online  cash_replace  \\\n",
       "0  Business Related Travel       $-      $66.00            0.0   \n",
       "1        Expert-Led Forums  $2,500.00      $-           2500.0   \n",
       "2        Expert-Led Forums  $1,250.00      $-           1250.0   \n",
       "3                    Meals       $-      $92.00            0.0   \n",
       "4  Business Related Travel       $-     $260.00            0.0   \n",
       "\n",
       "   online_replace   Total FirstName name_middle mail_sent_date  \\\n",
       "0            66.0    66.0      MARK          H.     2011-12-19   \n",
       "1             0.0  2500.0      MARK          H.     2011-12-19   \n",
       "2             0.0  1250.0      MARK          H.     2011-12-19   \n",
       "3            92.0    92.0      MARK          H.     2011-12-19   \n",
       "4           260.0   260.0      MARK          H.     2011-12-19   \n",
       "\n",
       "                                       office  \n",
       "0  Center for Devices and Radiological Health  \n",
       "1  Center for Devices and Radiological Health  \n",
       "2  Center for Devices and Radiological Health  \n",
       "3  Center for Devices and Radiological Health  \n",
       "4  Center for Devices and Radiological Health  "
      ]
     },
     "execution_count": 115,
     "metadata": {},
     "output_type": "execute_result"
    }
   ],
   "source": [
    "fine_email.head()"
   ]
  },
  {
   "cell_type": "markdown",
   "metadata": {},
   "source": [
    "### There are 810 records that have common last name within the 2 datasets "
   ]
  },
  {
   "cell_type": "markdown",
   "metadata": {},
   "source": [
    "### To find Totel fine per office "
   ]
  },
  {
   "cell_type": "code",
   "execution_count": 116,
   "metadata": {},
   "outputs": [],
   "source": [
    "total_per_office=fine_email.groupby('office').apply(lambda X:X['Total'].sum()).to_frame().reset_index()"
   ]
  },
  {
   "cell_type": "code",
   "execution_count": 117,
   "metadata": {},
   "outputs": [],
   "source": [
    "total_per_office.columns=['office', 'Total Fine']"
   ]
  },
  {
   "cell_type": "code",
   "execution_count": 118,
   "metadata": {},
   "outputs": [
    {
     "data": {
      "text/html": [
       "<div>\n",
       "<style scoped>\n",
       "    .dataframe tbody tr th:only-of-type {\n",
       "        vertical-align: middle;\n",
       "    }\n",
       "\n",
       "    .dataframe tbody tr th {\n",
       "        vertical-align: top;\n",
       "    }\n",
       "\n",
       "    .dataframe thead th {\n",
       "        text-align: right;\n",
       "    }\n",
       "</style>\n",
       "<table border=\"1\" class=\"dataframe\">\n",
       "  <thead>\n",
       "    <tr style=\"text-align: right;\">\n",
       "      <th></th>\n",
       "      <th>office</th>\n",
       "      <th>Total Fine</th>\n",
       "    </tr>\n",
       "  </thead>\n",
       "  <tbody>\n",
       "    <tr>\n",
       "      <th>0</th>\n",
       "      <td>Center for Biologics Evaluation and Research</td>\n",
       "      <td>309787.0</td>\n",
       "    </tr>\n",
       "    <tr>\n",
       "      <th>1</th>\n",
       "      <td>Center for Devices and Radiological Health</td>\n",
       "      <td>1001709.0</td>\n",
       "    </tr>\n",
       "    <tr>\n",
       "      <th>2</th>\n",
       "      <td>Center for Drug Evaluation and Research</td>\n",
       "      <td>571436.0</td>\n",
       "    </tr>\n",
       "    <tr>\n",
       "      <th>3</th>\n",
       "      <td>New York District Office</td>\n",
       "      <td>780.0</td>\n",
       "    </tr>\n",
       "  </tbody>\n",
       "</table>\n",
       "</div>"
      ],
      "text/plain": [
       "                                         office  Total Fine\n",
       "0  Center for Biologics Evaluation and Research    309787.0\n",
       "1    Center for Devices and Radiological Health   1001709.0\n",
       "2       Center for Drug Evaluation and Research    571436.0\n",
       "3                      New York District Office       780.0"
      ]
     },
     "execution_count": 118,
     "metadata": {},
     "output_type": "execute_result"
    }
   ],
   "source": [
    "total_per_office.head(10)"
   ]
  },
  {
   "cell_type": "markdown",
   "metadata": {},
   "source": [
    "### Here is the answer "
   ]
  },
  {
   "attachments": {},
   "cell_type": "markdown",
   "metadata": {},
   "source": [
    "### Q.4 Write a query to get the highest total fine and lowest total fine paid per state"
   ]
  },
  {
   "cell_type": "code",
   "execution_count": 129,
   "metadata": {},
   "outputs": [],
   "source": [
    "total_per_state=fine_email.groupby('state').apply(lambda X:X['Total'].sum()).to_frame().reset_index()"
   ]
  },
  {
   "cell_type": "code",
   "execution_count": 120,
   "metadata": {},
   "outputs": [],
   "source": [
    "total_per_state.columns=['state','Total Fine']"
   ]
  },
  {
   "cell_type": "code",
   "execution_count": 126,
   "metadata": {},
   "outputs": [
    {
     "data": {
      "text/plain": [
       "state             WV\n",
       "Total Fine    294839\n",
       "dtype: object"
      ]
     },
     "execution_count": 126,
     "metadata": {},
     "output_type": "execute_result"
    }
   ],
   "source": [
    "total_per_state.max()"
   ]
  },
  {
   "cell_type": "markdown",
   "metadata": {},
   "source": [
    "### WV state have the maximum Total fine"
   ]
  },
  {
   "cell_type": "code",
   "execution_count": 127,
   "metadata": {},
   "outputs": [
    {
     "data": {
      "text/plain": [
       "state          AL\n",
       "Total Fine    750\n",
       "dtype: object"
      ]
     },
     "execution_count": 127,
     "metadata": {},
     "output_type": "execute_result"
    }
   ],
   "source": [
    "total_per_state.min()"
   ]
  },
  {
   "cell_type": "markdown",
   "metadata": {},
   "source": [
    "### AL state  have lowest Total fine"
   ]
  },
  {
   "attachments": {},
   "cell_type": "markdown",
   "metadata": {},
   "source": [
    "###  Q.5 Write a query to get the least 2 states that had to pay minimum 'online' fine \n"
   ]
  },
  {
   "cell_type": "code",
   "execution_count": 143,
   "metadata": {},
   "outputs": [],
   "source": [
    "total_per_state_min_online=fine_email.groupby('state').apply(lambda X:X['online_replace'].sum()).to_frame().reset_index()"
   ]
  },
  {
   "cell_type": "code",
   "execution_count": 144,
   "metadata": {},
   "outputs": [],
   "source": [
    "total_per_state_min_online.columns=['state','online_fine']"
   ]
  },
  {
   "cell_type": "code",
   "execution_count": 148,
   "metadata": {},
   "outputs": [],
   "source": [
    "total_per_state_min_online.sort_values([\"online_fine\"], axis=0,\n",
    "                 ascending=True, inplace=True)"
   ]
  },
  {
   "cell_type": "code",
   "execution_count": 150,
   "metadata": {},
   "outputs": [
    {
     "data": {
      "text/html": [
       "<div>\n",
       "<style scoped>\n",
       "    .dataframe tbody tr th:only-of-type {\n",
       "        vertical-align: middle;\n",
       "    }\n",
       "\n",
       "    .dataframe tbody tr th {\n",
       "        vertical-align: top;\n",
       "    }\n",
       "\n",
       "    .dataframe thead th {\n",
       "        text-align: right;\n",
       "    }\n",
       "</style>\n",
       "<table border=\"1\" class=\"dataframe\">\n",
       "  <thead>\n",
       "    <tr style=\"text-align: right;\">\n",
       "      <th></th>\n",
       "      <th>state</th>\n",
       "      <th>online_fine</th>\n",
       "    </tr>\n",
       "  </thead>\n",
       "  <tbody>\n",
       "    <tr>\n",
       "      <th>24</th>\n",
       "      <td>NE</td>\n",
       "      <td>0.0</td>\n",
       "    </tr>\n",
       "    <tr>\n",
       "      <th>23</th>\n",
       "      <td>ND</td>\n",
       "      <td>0.0</td>\n",
       "    </tr>\n",
       "    <tr>\n",
       "      <th>30</th>\n",
       "      <td>OK</td>\n",
       "      <td>0.0</td>\n",
       "    </tr>\n",
       "    <tr>\n",
       "      <th>27</th>\n",
       "      <td>NV</td>\n",
       "      <td>0.0</td>\n",
       "    </tr>\n",
       "    <tr>\n",
       "      <th>12</th>\n",
       "      <td>IN</td>\n",
       "      <td>70.0</td>\n",
       "    </tr>\n",
       "    <tr>\n",
       "      <th>10</th>\n",
       "      <td>ID</td>\n",
       "      <td>75.0</td>\n",
       "    </tr>\n",
       "    <tr>\n",
       "      <th>35</th>\n",
       "      <td>UT</td>\n",
       "      <td>82.0</td>\n",
       "    </tr>\n",
       "    <tr>\n",
       "      <th>9</th>\n",
       "      <td>IA</td>\n",
       "      <td>180.0</td>\n",
       "    </tr>\n",
       "    <tr>\n",
       "      <th>14</th>\n",
       "      <td>KY</td>\n",
       "      <td>601.0</td>\n",
       "    </tr>\n",
       "    <tr>\n",
       "      <th>0</th>\n",
       "      <td>AL</td>\n",
       "      <td>636.0</td>\n",
       "    </tr>\n",
       "    <tr>\n",
       "      <th>1</th>\n",
       "      <td>AR</td>\n",
       "      <td>663.0</td>\n",
       "    </tr>\n",
       "    <tr>\n",
       "      <th>5</th>\n",
       "      <td>CT</td>\n",
       "      <td>811.0</td>\n",
       "    </tr>\n",
       "    <tr>\n",
       "      <th>20</th>\n",
       "      <td>MO</td>\n",
       "      <td>977.0</td>\n",
       "    </tr>\n",
       "    <tr>\n",
       "      <th>16</th>\n",
       "      <td>MA</td>\n",
       "      <td>1030.0</td>\n",
       "    </tr>\n",
       "    <tr>\n",
       "      <th>6</th>\n",
       "      <td>DC</td>\n",
       "      <td>1042.0</td>\n",
       "    </tr>\n",
       "  </tbody>\n",
       "</table>\n",
       "</div>"
      ],
      "text/plain": [
       "   state  online_fine\n",
       "24    NE          0.0\n",
       "23    ND          0.0\n",
       "30    OK          0.0\n",
       "27    NV          0.0\n",
       "12    IN         70.0\n",
       "10    ID         75.0\n",
       "35    UT         82.0\n",
       "9     IA        180.0\n",
       "14    KY        601.0\n",
       "0     AL        636.0\n",
       "1     AR        663.0\n",
       "5     CT        811.0\n",
       "20    MO        977.0\n",
       "16    MA       1030.0\n",
       "6     DC       1042.0"
      ]
     },
     "execution_count": 150,
     "metadata": {},
     "output_type": "execute_result"
    }
   ],
   "source": [
    "total_per_state_min_online.head(15)"
   ]
  },
  {
   "cell_type": "markdown",
   "metadata": {},
   "source": [
    "### IN and ID state have least minumum value in online fines"
   ]
  },
  {
   "attachments": {},
   "cell_type": "markdown",
   "metadata": {},
   "source": [
    "###  Q.6 Write a SQL query to find the number of doctors that contributed to the state having highest 'cash' fine\n"
   ]
  },
  {
   "cell_type": "code",
   "execution_count": 206,
   "metadata": {},
   "outputs": [],
   "source": [
    "import sqlite3"
   ]
  },
  {
   "cell_type": "code",
   "execution_count": 207,
   "metadata": {},
   "outputs": [],
   "source": [
    "sql_connect = sqlite3.connect('fines.db')"
   ]
  },
  {
   "cell_type": "code",
   "execution_count": 208,
   "metadata": {},
   "outputs": [],
   "source": [
    "c = sql_connect.cursor()\n"
   ]
  },
  {
   "cell_type": "code",
   "execution_count": 209,
   "metadata": {},
   "outputs": [
    {
     "data": {
      "text/plain": [
       "<sqlite3.Cursor at 0x18ec1a4bc00>"
      ]
     },
     "execution_count": 209,
     "metadata": {},
     "output_type": "execute_result"
    }
   ],
   "source": [
    "c.execute(\"CREATE TABLE IF NOT EXISTS fine ({})\".format(' ,'.join(fine_email.columns)))\n",
    "        "
   ]
  },
  {
   "cell_type": "markdown",
   "metadata": {},
   "source": [
    "##  #due to some database errors I am writing just the SQL query to fetch the number of  doctors"
   ]
  },
  {
   "cell_type": "markdown",
   "metadata": {},
   "source": [
    "### select count(LastName) from fine_email where state IN (select state from fine_email where cash_replace=(select max(cash_replace) from fine_email));"
   ]
  },
  {
   "attachments": {},
   "cell_type": "markdown",
   "metadata": {},
   "source": [
    "### Q.7 Get the top 5 average fine paid per state and category\n"
   ]
  },
  {
   "cell_type": "code",
   "execution_count": 172,
   "metadata": {},
   "outputs": [],
   "source": [
    "top5_average_state=fine_email.groupby(['state']).apply(lambda X:X['Total'].mean()).to_frame().reset_index()"
   ]
  },
  {
   "cell_type": "code",
   "execution_count": 176,
   "metadata": {},
   "outputs": [],
   "source": [
    "top5_average_state.columns=['state','avg_of_fine']"
   ]
  },
  {
   "cell_type": "code",
   "execution_count": 179,
   "metadata": {},
   "outputs": [
    {
     "data": {
      "text/html": [
       "<div>\n",
       "<style scoped>\n",
       "    .dataframe tbody tr th:only-of-type {\n",
       "        vertical-align: middle;\n",
       "    }\n",
       "\n",
       "    .dataframe tbody tr th {\n",
       "        vertical-align: top;\n",
       "    }\n",
       "\n",
       "    .dataframe thead th {\n",
       "        text-align: right;\n",
       "    }\n",
       "</style>\n",
       "<table border=\"1\" class=\"dataframe\">\n",
       "  <thead>\n",
       "    <tr style=\"text-align: right;\">\n",
       "      <th></th>\n",
       "      <th>state</th>\n",
       "      <th>avg_of_fine</th>\n",
       "    </tr>\n",
       "  </thead>\n",
       "  <tbody>\n",
       "    <tr>\n",
       "      <th>0</th>\n",
       "      <td>AL</td>\n",
       "      <td>803.000000</td>\n",
       "    </tr>\n",
       "    <tr>\n",
       "      <th>1</th>\n",
       "      <td>AR</td>\n",
       "      <td>2073.666667</td>\n",
       "    </tr>\n",
       "    <tr>\n",
       "      <th>2</th>\n",
       "      <td>AZ</td>\n",
       "      <td>3556.916667</td>\n",
       "    </tr>\n",
       "    <tr>\n",
       "      <th>3</th>\n",
       "      <td>CA</td>\n",
       "      <td>1969.000000</td>\n",
       "    </tr>\n",
       "    <tr>\n",
       "      <th>4</th>\n",
       "      <td>CO</td>\n",
       "      <td>658.700000</td>\n",
       "    </tr>\n",
       "  </tbody>\n",
       "</table>\n",
       "</div>"
      ],
      "text/plain": [
       "  state  avg_of_fine\n",
       "0    AL   803.000000\n",
       "1    AR  2073.666667\n",
       "2    AZ  3556.916667\n",
       "3    CA  1969.000000\n",
       "4    CO   658.700000"
      ]
     },
     "execution_count": 179,
     "metadata": {},
     "output_type": "execute_result"
    }
   ],
   "source": [
    "top5_average_state.head()"
   ]
  },
  {
   "cell_type": "code",
   "execution_count": 180,
   "metadata": {},
   "outputs": [],
   "source": [
    "      top5_average_state.sort_values([\"avg_of_fine\"], axis=0,\n",
    "                 ascending=False, inplace=True)          "
   ]
  },
  {
   "cell_type": "code",
   "execution_count": 181,
   "metadata": {},
   "outputs": [
    {
     "data": {
      "text/html": [
       "<div>\n",
       "<style scoped>\n",
       "    .dataframe tbody tr th:only-of-type {\n",
       "        vertical-align: middle;\n",
       "    }\n",
       "\n",
       "    .dataframe tbody tr th {\n",
       "        vertical-align: top;\n",
       "    }\n",
       "\n",
       "    .dataframe thead th {\n",
       "        text-align: right;\n",
       "    }\n",
       "</style>\n",
       "<table border=\"1\" class=\"dataframe\">\n",
       "  <thead>\n",
       "    <tr style=\"text-align: right;\">\n",
       "      <th></th>\n",
       "      <th>state</th>\n",
       "      <th>avg_of_fine</th>\n",
       "    </tr>\n",
       "  </thead>\n",
       "  <tbody>\n",
       "    <tr>\n",
       "      <th>25</th>\n",
       "      <td>NH</td>\n",
       "      <td>15248.500000</td>\n",
       "    </tr>\n",
       "    <tr>\n",
       "      <th>20</th>\n",
       "      <td>MO</td>\n",
       "      <td>9224.611111</td>\n",
       "    </tr>\n",
       "    <tr>\n",
       "      <th>24</th>\n",
       "      <td>NE</td>\n",
       "      <td>5285.000000</td>\n",
       "    </tr>\n",
       "    <tr>\n",
       "      <th>37</th>\n",
       "      <td>WA</td>\n",
       "      <td>5100.625000</td>\n",
       "    </tr>\n",
       "    <tr>\n",
       "      <th>34</th>\n",
       "      <td>TX</td>\n",
       "      <td>3732.139241</td>\n",
       "    </tr>\n",
       "  </tbody>\n",
       "</table>\n",
       "</div>"
      ],
      "text/plain": [
       "   state   avg_of_fine\n",
       "25    NH  15248.500000\n",
       "20    MO   9224.611111\n",
       "24    NE   5285.000000\n",
       "37    WA   5100.625000\n",
       "34    TX   3732.139241"
      ]
     },
     "execution_count": 181,
     "metadata": {},
     "output_type": "execute_result"
    }
   ],
   "source": [
    "top5_average_state.head()"
   ]
  },
  {
   "cell_type": "code",
   "execution_count": 183,
   "metadata": {},
   "outputs": [
    {
     "data": {
      "text/html": [
       "<div>\n",
       "<style scoped>\n",
       "    .dataframe tbody tr th:only-of-type {\n",
       "        vertical-align: middle;\n",
       "    }\n",
       "\n",
       "    .dataframe tbody tr th {\n",
       "        vertical-align: top;\n",
       "    }\n",
       "\n",
       "    .dataframe thead th {\n",
       "        text-align: right;\n",
       "    }\n",
       "</style>\n",
       "<table border=\"1\" class=\"dataframe\">\n",
       "  <thead>\n",
       "    <tr style=\"text-align: right;\">\n",
       "      <th></th>\n",
       "      <th>state</th>\n",
       "      <th>avg_of_fine</th>\n",
       "    </tr>\n",
       "  </thead>\n",
       "  <tbody>\n",
       "    <tr>\n",
       "      <th>25</th>\n",
       "      <td>NH</td>\n",
       "      <td>15248.0</td>\n",
       "    </tr>\n",
       "    <tr>\n",
       "      <th>20</th>\n",
       "      <td>MO</td>\n",
       "      <td>9225.0</td>\n",
       "    </tr>\n",
       "    <tr>\n",
       "      <th>24</th>\n",
       "      <td>NE</td>\n",
       "      <td>5285.0</td>\n",
       "    </tr>\n",
       "    <tr>\n",
       "      <th>37</th>\n",
       "      <td>WA</td>\n",
       "      <td>5101.0</td>\n",
       "    </tr>\n",
       "    <tr>\n",
       "      <th>34</th>\n",
       "      <td>TX</td>\n",
       "      <td>3732.0</td>\n",
       "    </tr>\n",
       "  </tbody>\n",
       "</table>\n",
       "</div>"
      ],
      "text/plain": [
       "   state  avg_of_fine\n",
       "25    NH      15248.0\n",
       "20    MO       9225.0\n",
       "24    NE       5285.0\n",
       "37    WA       5101.0\n",
       "34    TX       3732.0"
      ]
     },
     "execution_count": 183,
     "metadata": {},
     "output_type": "execute_result"
    }
   ],
   "source": [
    "top5_average_state.round(0).head()"
   ]
  },
  {
   "cell_type": "markdown",
   "metadata": {},
   "source": [
    "###  So we can say Top Average fine was paid by NH state "
   ]
  },
  {
   "cell_type": "markdown",
   "metadata": {},
   "source": [
    "### And in the case of category we can check "
   ]
  },
  {
   "cell_type": "code",
   "execution_count": 184,
   "metadata": {},
   "outputs": [],
   "source": [
    "top5_average_category=fine_email.groupby(['category']).apply(lambda X:X['Total'].mean()).to_frame().reset_index()"
   ]
  },
  {
   "cell_type": "code",
   "execution_count": 185,
   "metadata": {},
   "outputs": [],
   "source": [
    "top5_average_category.columns=['category','avg_of_fine']"
   ]
  },
  {
   "cell_type": "code",
   "execution_count": 187,
   "metadata": {},
   "outputs": [],
   "source": [
    "top5_average_category.sort_values([\"avg_of_fine\"], axis=0,\n",
    "                 ascending=False, inplace=True)          "
   ]
  },
  {
   "cell_type": "code",
   "execution_count": 189,
   "metadata": {},
   "outputs": [
    {
     "data": {
      "text/html": [
       "<div>\n",
       "<style scoped>\n",
       "    .dataframe tbody tr th:only-of-type {\n",
       "        vertical-align: middle;\n",
       "    }\n",
       "\n",
       "    .dataframe tbody tr th {\n",
       "        vertical-align: top;\n",
       "    }\n",
       "\n",
       "    .dataframe thead th {\n",
       "        text-align: right;\n",
       "    }\n",
       "</style>\n",
       "<table border=\"1\" class=\"dataframe\">\n",
       "  <thead>\n",
       "    <tr style=\"text-align: right;\">\n",
       "      <th></th>\n",
       "      <th>category</th>\n",
       "      <th>avg_of_fine</th>\n",
       "    </tr>\n",
       "  </thead>\n",
       "  <tbody>\n",
       "    <tr>\n",
       "      <th>4</th>\n",
       "      <td>Investigator-Initiated Research</td>\n",
       "      <td>37500.0</td>\n",
       "    </tr>\n",
       "    <tr>\n",
       "      <th>6</th>\n",
       "      <td>Professional Advising</td>\n",
       "      <td>5510.0</td>\n",
       "    </tr>\n",
       "    <tr>\n",
       "      <th>2</th>\n",
       "      <td>Expert-Led Forums</td>\n",
       "      <td>3725.0</td>\n",
       "    </tr>\n",
       "    <tr>\n",
       "      <th>3</th>\n",
       "      <td>Infosys Sponsored Research initiated on or aft...</td>\n",
       "      <td>1071.0</td>\n",
       "    </tr>\n",
       "    <tr>\n",
       "      <th>0</th>\n",
       "      <td>Business Related Travel</td>\n",
       "      <td>941.0</td>\n",
       "    </tr>\n",
       "  </tbody>\n",
       "</table>\n",
       "</div>"
      ],
      "text/plain": [
       "                                            category  avg_of_fine\n",
       "4                    Investigator-Initiated Research      37500.0\n",
       "6                              Professional Advising       5510.0\n",
       "2                                  Expert-Led Forums       3725.0\n",
       "3  Infosys Sponsored Research initiated on or aft...       1071.0\n",
       "0                            Business Related Travel        941.0"
      ]
     },
     "execution_count": 189,
     "metadata": {},
     "output_type": "execute_result"
    }
   ],
   "source": [
    "top5_average_category.round(0).head()"
   ]
  },
  {
   "cell_type": "code",
   "execution_count": null,
   "metadata": {},
   "outputs": [],
   "source": []
  },
  {
   "cell_type": "markdown",
   "metadata": {},
   "source": [
    "### And the  top category that have paid most average fine that is 37500 dollars and the category name is investigator-initiated Research\n"
   ]
  },
  {
   "cell_type": "markdown",
   "metadata": {},
   "source": [
    "## Insights from these calculations"
   ]
  },
  {
   "cell_type": "markdown",
   "metadata": {},
   "source": [
    "#### -> Found  data quality issue in case of No doctor_id or such primary key\n",
    "#### -> Most average fines are paid doctors for Investigator Initiated Research and then proffessional Advising\n",
    "#### -> NE,ND,OK and NV these are the state they didn't  paid online_fine"
   ]
  }
 ],
 "metadata": {
  "kernelspec": {
   "display_name": "Python 3",
   "language": "python",
   "name": "python3"
  },
  "language_info": {
   "codemirror_mode": {
    "name": "ipython",
    "version": 3
   },
   "file_extension": ".py",
   "mimetype": "text/x-python",
   "name": "python",
   "nbconvert_exporter": "python",
   "pygments_lexer": "ipython3",
   "version": "3.8.5"
  }
 },
 "nbformat": 4,
 "nbformat_minor": 4
}
